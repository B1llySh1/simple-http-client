{
 "cells": [
  {
   "cell_type": "code",
   "execution_count": 7,
   "metadata": {},
   "outputs": [],
   "source": [
    "from socket import *\n",
    "import time\n",
    "import os\n",
    "\n",
    "import webbrowser\n",
    "\n",
    "from datetime import datetime"
   ]
  },
  {
   "cell_type": "code",
   "execution_count": 8,
   "metadata": {},
   "outputs": [],
   "source": [
    "def isPortInUse(port):\n",
    "    try:\n",
    "        with socket(AF_INET, SOCK_STREAM) as s:\n",
    "            s.bind((\"\", port))\n",
    "    except:\n",
    "        return True\n",
    "    return False"
   ]
  },
  {
   "cell_type": "code",
   "execution_count": 9,
   "metadata": {},
   "outputs": [
    {
     "name": "stdout",
     "output_type": "stream",
     "text": [
      "Server is listening on: ('0.0.0.0', 12009)\n",
      "Connect to the server use: http://localhost:12009/test.html\n"
     ]
    }
   ],
   "source": [
    "serverPort = 12000\n",
    "\n",
    "# Select available port\n",
    "while (isPortInUse(serverPort)):\n",
    "    serverPort += 1\n",
    "\n",
    "serverSocket = socket(AF_INET, SOCK_STREAM)\n",
    "serverSocket.bind((\"\", serverPort))\n",
    "serverSocket.listen(1)\n",
    "\n",
    "\n",
    "print(\"Server is listening on: \" + str(serverSocket.getsockname()))\n",
    "\n",
    "print(f\"Connect to the server use: http://localhost:{serverPort}/test.html\")\n",
    "\n",
    "# Optional: Open the webiste for the user\n",
    "webbrowser.open(f\"http://localhost:{serverPort}/test.html\", new=0, autoraise=True)\n",
    "\n",
    "while True:\n",
    "    clientSocket, clientAddress = serverSocket.accept()\n",
    "    # print(\"Client connected from \" + str(clientAddress))\n",
    "\n",
    "    request = clientSocket.recv(1024).decode()\n",
    "    # print(request)\n",
    "    processHTMLrequest(request, clientSocket)\n",
    "\n",
    "    clientSocket.close()\n",
    "    # print(\"Client closed from \" + str(clientAddress))\n"
   ]
  }
 ],
 "metadata": {
  "kernelspec": {
   "display_name": "base",
   "language": "python",
   "name": "python3"
  },
  "language_info": {
   "codemirror_mode": {
    "name": "ipython",
    "version": 3
   },
   "file_extension": ".py",
   "mimetype": "text/x-python",
   "name": "python",
   "nbconvert_exporter": "python",
   "pygments_lexer": "ipython3",
   "version": "3.9.16"
  },
  "orig_nbformat": 4,
  "vscode": {
   "interpreter": {
    "hash": "40d3a090f54c6569ab1632332b64b2c03c39dcf918b08424e98f38b5ae0af88f"
   }
  }
 },
 "nbformat": 4,
 "nbformat_minor": 2
}
