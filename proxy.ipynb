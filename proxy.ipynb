{
 "cells": [
  {
   "cell_type": "code",
   "execution_count": 7,
   "metadata": {},
   "outputs": [],
   "source": [
    "from socket import *\n",
    "import time\n",
    "import os\n",
    "\n",
    "import webbrowser\n",
    "\n",
    "from datetime import datetime\n",
    "\n",
    "import threading"
   ]
  },
  {
   "cell_type": "code",
   "execution_count": 8,
   "metadata": {},
   "outputs": [
    {
     "name": "stdout",
     "output_type": "stream",
     "text": [
      "Proxy server listening on port 8000\n",
      "Accepted connection from ('127.0.0.1', 52100)\n",
      "Cached the response!\n",
      "Accepted connection from ('127.0.0.1', 52135)\n",
      "Cached the response!\n",
      "Accepted connection from ('127.0.0.1', 52141)\n",
      "Cached the response!\n",
      "Accepted connection from ('127.0.0.1', 52144)\n",
      "Cached the response!\n",
      "Accepted connection from ('127.0.0.1', 52186)\n",
      "Cached the response!\n"
     ]
    },
    {
     "ename": "KeyboardInterrupt",
     "evalue": "",
     "output_type": "error",
     "traceback": [
      "\u001b[0;31m---------------------------------------------------------------------------\u001b[0m",
      "\u001b[0;31mKeyboardInterrupt\u001b[0m                         Traceback (most recent call last)",
      "Cell \u001b[0;32mIn[8], line 61\u001b[0m\n\u001b[1;32m     58\u001b[0m proxy_port \u001b[39m=\u001b[39m \u001b[39m8000\u001b[39m\n\u001b[1;32m     60\u001b[0m \u001b[39m# Start the proxy server\u001b[39;00m\n\u001b[0;32m---> 61\u001b[0m start_proxy_server(proxy_port)\n",
      "Cell \u001b[0;32mIn[8], line 49\u001b[0m, in \u001b[0;36mstart_proxy_server\u001b[0;34m(proxy_port)\u001b[0m\n\u001b[1;32m     45\u001b[0m \u001b[39mprint\u001b[39m(\u001b[39mf\u001b[39m\u001b[39m\"\u001b[39m\u001b[39mProxy server listening on port \u001b[39m\u001b[39m{\u001b[39;00mproxy_port\u001b[39m}\u001b[39;00m\u001b[39m\"\u001b[39m)\n\u001b[1;32m     47\u001b[0m \u001b[39mwhile\u001b[39;00m \u001b[39mTrue\u001b[39;00m:\n\u001b[1;32m     48\u001b[0m     \u001b[39m# Accept incoming connections\u001b[39;00m\n\u001b[0;32m---> 49\u001b[0m     client_socket, client_address \u001b[39m=\u001b[39m server_socket\u001b[39m.\u001b[39;49maccept()\n\u001b[1;32m     50\u001b[0m     \u001b[39mprint\u001b[39m(\u001b[39mf\u001b[39m\u001b[39m\"\u001b[39m\u001b[39mAccepted connection from \u001b[39m\u001b[39m{\u001b[39;00mclient_address\u001b[39m}\u001b[39;00m\u001b[39m\"\u001b[39m)\n\u001b[1;32m     52\u001b[0m     \u001b[39m# Handle the client in a separate thread\u001b[39;00m\n",
      "File \u001b[0;32m/opt/anaconda3/lib/python3.9/socket.py:293\u001b[0m, in \u001b[0;36msocket.accept\u001b[0;34m(self)\u001b[0m\n\u001b[1;32m    286\u001b[0m \u001b[39mdef\u001b[39;00m \u001b[39maccept\u001b[39m(\u001b[39mself\u001b[39m):\n\u001b[1;32m    287\u001b[0m \u001b[39m    \u001b[39m\u001b[39m\"\"\"accept() -> (socket object, address info)\u001b[39;00m\n\u001b[1;32m    288\u001b[0m \n\u001b[1;32m    289\u001b[0m \u001b[39m    Wait for an incoming connection.  Return a new socket\u001b[39;00m\n\u001b[1;32m    290\u001b[0m \u001b[39m    representing the connection, and the address of the client.\u001b[39;00m\n\u001b[1;32m    291\u001b[0m \u001b[39m    For IP sockets, the address info is a pair (hostaddr, port).\u001b[39;00m\n\u001b[1;32m    292\u001b[0m \u001b[39m    \"\"\"\u001b[39;00m\n\u001b[0;32m--> 293\u001b[0m     fd, addr \u001b[39m=\u001b[39m \u001b[39mself\u001b[39;49m\u001b[39m.\u001b[39;49m_accept()\n\u001b[1;32m    294\u001b[0m     sock \u001b[39m=\u001b[39m socket(\u001b[39mself\u001b[39m\u001b[39m.\u001b[39mfamily, \u001b[39mself\u001b[39m\u001b[39m.\u001b[39mtype, \u001b[39mself\u001b[39m\u001b[39m.\u001b[39mproto, fileno\u001b[39m=\u001b[39mfd)\n\u001b[1;32m    295\u001b[0m     \u001b[39m# Issue #7995: if no default timeout is set and the listening\u001b[39;00m\n\u001b[1;32m    296\u001b[0m     \u001b[39m# socket had a (non-zero) timeout, force the new socket in blocking\u001b[39;00m\n\u001b[1;32m    297\u001b[0m     \u001b[39m# mode to override platform-specific socket flags inheritance.\u001b[39;00m\n",
      "\u001b[0;31mKeyboardInterrupt\u001b[0m: "
     ]
    }
   ],
   "source": [
    "import socket\n",
    "import threading\n",
    "\n",
    "cache = {}\n",
    "\n",
    "def handle_client(client_socket):\n",
    "    request_data = client_socket.recv(4096)\n",
    "\n",
    "    print(request_data)\n",
    "\n",
    "    # Check if the request is in the cache\n",
    "    if request_data in cache:\n",
    "        # Serve the cached response\n",
    "        response_data = cache[request_data]\n",
    "        print(\"Cache hit!\")\n",
    "    else:\n",
    "        # Forward the request to the target server\n",
    "        target_host = \"www.google.com\"\n",
    "        target_port = 80\n",
    "\n",
    "        target_socket = socket.socket(socket.AF_INET, socket.SOCK_STREAM)\n",
    "        target_socket.connect((target_host, target_port))\n",
    "        target_socket.send(request_data)\n",
    "\n",
    "        # Receive the response from the target server\n",
    "        response_data = target_socket.recv(4096)\n",
    "\n",
    "        # Cache the response for future use\n",
    "        cache[request_data] = response_data\n",
    "        print(\"Cached the response!\")\n",
    "\n",
    "        # Close the target socket\n",
    "        target_socket.close()\n",
    "\n",
    "    # Forward the response to the client\n",
    "    client_socket.send(response_data)\n",
    "\n",
    "    # Close the client socket\n",
    "    client_socket.close()\n",
    "\n",
    "def start_proxy_server(proxy_port):\n",
    "    # Create a server socket\n",
    "    server_socket = socket.socket(AF_INET, SOCK_STREAM)\n",
    "    server_socket.bind((\"\", proxy_port))\n",
    "    server_socket.listen(1)\n",
    "\n",
    "    print(f\"Proxy server listening on port {proxy_port}\")\n",
    "\n",
    "    while True:\n",
    "        # Accept incoming connections\n",
    "        client_socket, client_address = server_socket.accept()\n",
    "        print(f\"Accepted connection from {client_address}\")\n",
    "\n",
    "        # Handle the client in a separate thread\n",
    "        client_handler = threading.Thread(target=handle_client, args=(client_socket,))\n",
    "        client_handler.start()\n",
    "\n",
    "if __name__ == \"__main__\":\n",
    "    # Set the proxy server port\n",
    "    proxy_port = 8000\n",
    "\n",
    "    # Start the proxy server\n",
    "    start_proxy_server(proxy_port)\n"
   ]
  }
 ],
 "metadata": {
  "kernelspec": {
   "display_name": "base",
   "language": "python",
   "name": "python3"
  },
  "language_info": {
   "codemirror_mode": {
    "name": "ipython",
    "version": 3
   },
   "file_extension": ".py",
   "mimetype": "text/x-python",
   "name": "python",
   "nbconvert_exporter": "python",
   "pygments_lexer": "ipython3",
   "version": "3.9.16"
  },
  "orig_nbformat": 4,
  "vscode": {
   "interpreter": {
    "hash": "40d3a090f54c6569ab1632332b64b2c03c39dcf918b08424e98f38b5ae0af88f"
   }
  }
 },
 "nbformat": 4,
 "nbformat_minor": 2
}
